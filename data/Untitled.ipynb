{
 "cells": [
  {
   "cell_type": "code",
   "execution_count": 2,
   "metadata": {},
   "outputs": [],
   "source": [
    "import os"
   ]
  },
  {
   "cell_type": "code",
   "execution_count": 2,
   "metadata": {},
   "outputs": [],
   "source": [
    "train = open('ptb.train.txt', encoding='utf-8').read()\n",
    "test = open('ptb.test.txt', encoding='utf-8').read()\n",
    "valid = open('ptb.valid.txt', encoding='utf-8').read()\n",
    "\n",
    "char_train = open('ptb.char.train.txt', encoding='utf-8').read()\n",
    "char_test = open('ptb.char.test.txt', encoding='utf-8').read()\n",
    "char_valid = open('ptb.char.valid.txt', encoding='utf-8').read()"
   ]
  },
  {
   "cell_type": "code",
   "execution_count": 3,
   "metadata": {},
   "outputs": [
    {
     "name": "stdout",
     "output_type": "stream",
     "text": [
      "50\n",
      "48\n",
      "50\n",
      "51\n",
      "49\n",
      "51\n"
     ]
    }
   ],
   "source": [
    "print (len(set(train)))\n",
    "print (len(set(test)))\n",
    "print (len(set(valid)))\n",
    "print (len(set(char_train)))\n",
    "print (len(set(char_test)))\n",
    "print (len(set(char_valid)))"
   ]
  },
  {
   "cell_type": "code",
   "execution_count": 4,
   "metadata": {},
   "outputs": [
    {
     "name": "stdout",
     "output_type": "stream",
     "text": [
      "10001\n",
      "6023\n",
      "6050\n"
     ]
    }
   ],
   "source": [
    "print (len(set(train.split(' '))))\n",
    "print (len(set(valid.split(' '))))\n",
    "print (len(set(test.split(' '))))"
   ]
  },
  {
   "cell_type": "code",
   "execution_count": 5,
   "metadata": {},
   "outputs": [
    {
     "name": "stdout",
     "output_type": "stream",
     "text": [
      "929590\n",
      "73761\n",
      "82431\n"
     ]
    }
   ],
   "source": [
    "print (len(train.split(' ')))\n",
    "print (len(valid.split(' ')))\n",
    "print (len(test.split(' ')))"
   ]
  },
  {
   "cell_type": "code",
   "execution_count": 27,
   "metadata": {},
   "outputs": [
    {
     "data": {
      "text/plain": [
       "393042"
      ]
     },
     "execution_count": 27,
     "metadata": {},
     "output_type": "execute_result"
    }
   ],
   "source": [
    "char_train = open('ptb.char.train.txt', encoding='utf-8').read()\n",
    "char_test = open('ptb.char.test.txt', encoding='utf-8').read()\n",
    "char_valid = open('ptb.char.valid.txt', encoding='utf-8').read()\n",
    "\n",
    "chars = char_valid.replace(' ', '')\n",
    "d = open(\"ptb.char.valid.strip.txt\", \"w\")\n",
    "d.write(chars)"
   ]
  },
  {
   "cell_type": "code",
   "execution_count": 23,
   "metadata": {},
   "outputs": [],
   "source": [
    "chars = char_train.replace(' ','')"
   ]
  },
  {
   "cell_type": "code",
   "execution_count": 33,
   "metadata": {},
   "outputs": [
    {
     "name": "stdout",
     "output_type": "stream",
     "text": [
      "0.5.0a0+7450e91\n"
     ]
    }
   ],
   "source": [
    "import torch\n",
    "from torch.autograd import Variable\n",
    "print(torch.__version__)"
   ]
  },
  {
   "cell_type": "code",
   "execution_count": 34,
   "metadata": {},
   "outputs": [],
   "source": [
    "a = torch.tensor([1,1])\n",
    "b = Variable(a)"
   ]
  },
  {
   "cell_type": "code",
   "execution_count": 37,
   "metadata": {},
   "outputs": [
    {
     "name": "stdout",
     "output_type": "stream",
     "text": [
      "torch.LongTensor\n",
      "torch.LongTensor\n"
     ]
    }
   ],
   "source": [
    "print (a.type())\n",
    "print (b.type())"
   ]
  },
  {
   "cell_type": "code",
   "execution_count": 41,
   "metadata": {},
   "outputs": [
    {
     "data": {
      "text/plain": [
       "torch.Tensor"
      ]
     },
     "execution_count": 41,
     "metadata": {},
     "output_type": "execute_result"
    }
   ],
   "source": [
    "type(b)"
   ]
  },
  {
   "cell_type": "code",
   "execution_count": null,
   "metadata": {},
   "outputs": [],
   "source": []
  }
 ],
 "metadata": {
  "kernelspec": {
   "display_name": "Python 3",
   "language": "python",
   "name": "python3"
  },
  "language_info": {
   "codemirror_mode": {
    "name": "ipython",
    "version": 3
   },
   "file_extension": ".py",
   "mimetype": "text/x-python",
   "name": "python",
   "nbconvert_exporter": "python",
   "pygments_lexer": "ipython3",
   "version": "3.6.4"
  }
 },
 "nbformat": 4,
 "nbformat_minor": 2
}
